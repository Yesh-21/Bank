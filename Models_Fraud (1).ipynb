{
 "cells": [
  {
   "cell_type": "code",
   "execution_count": 1,
   "metadata": {},
   "outputs": [],
   "source": [
    "import pandas as pd\n",
    "import numpy as np\n",
    "from sklearn.linear_model import LogisticRegression\n"
   ]
  },
  {
   "cell_type": "code",
   "execution_count": 2,
   "metadata": {},
   "outputs": [],
   "source": [
    "import matplotlib.pyplot as plt\n",
    "import matplotlib.pyplot as plt\n",
    "import matplotlib.style as style\n",
    "from matplotlib import pyplot\n",
    "from numpy import where\n",
    "import seaborn as sns\n",
    "import warnings\n",
    "warnings.filterwarnings(\"ignore\")"
   ]
  },
  {
   "cell_type": "code",
   "execution_count": 3,
   "metadata": {},
   "outputs": [],
   "source": [
    "from collections import Counter\n",
    "from imblearn.over_sampling import ADASYN\n",
    "from imblearn.over_sampling import BorderlineSMOTE\n",
    "from imblearn.over_sampling import SMOTE\n",
    "from imblearn.over_sampling import SVMSMOTE\n",
    "\n",
    "from sklearn import metrics\n",
    "from sklearn.datasets import make_classification\n",
    "\n",
    "\n",
    "from sklearn.ensemble import RandomForestClassifier\n",
    "from sklearn.linear_model import LogisticRegression\n",
    "from sklearn.metrics import accuracy_score\n",
    "from sklearn.metrics import classification_report\n",
    "from sklearn.metrics import classification_report, confusion_matrix\n",
    "from sklearn.metrics import confusion_matrix\n",
    "from sklearn.metrics import plot_confusion_matrix\n",
    "from sklearn.metrics import roc_auc_score\n",
    "from sklearn.model_selection import cross_val_score\n",
    "from sklearn.model_selection import KFold\n",
    "from sklearn.model_selection import train_test_split\n",
    "from sklearn.naive_bayes import GaussianNB\n",
    "from sklearn.neighbors import KNeighborsClassifier\n",
    "from sklearn.svm import SVC\n",
    "from sklearn.tree import DecisionTreeClassifier\n",
    "from xgboost import XGBClassifier"
   ]
  },
  {
   "cell_type": "code",
   "execution_count": 4,
   "metadata": {},
   "outputs": [
    {
     "data": {
      "text/plain": [
       "<function matplotlib.pyplot.subplots(nrows=1, ncols=1, *, sharex=False, sharey=False, squeeze=True, subplot_kw=None, gridspec_kw=None, **fig_kw)>"
      ]
     },
     "execution_count": 4,
     "metadata": {},
     "output_type": "execute_result"
    }
   ],
   "source": [
    "plt=__import__(\"matplotlib.pyplot\")\n",
    "plt.pyplot.subplots"
   ]
  },
  {
   "cell_type": "code",
   "execution_count": 5,
   "metadata": {
    "id": "VHZ0KJr7dS1n"
   },
   "outputs": [],
   "source": [
    "df = pd.read_csv(\"Base.csv\")"
   ]
  },
  {
   "cell_type": "code",
   "execution_count": 6,
   "metadata": {
    "colab": {
     "base_uri": "https://localhost:8080/"
    },
    "id": "vwNvWa93dWli",
    "outputId": "3f6ffa43-0a75-453a-a279-13ebc10a5713"
   },
   "outputs": [
    {
     "data": {
      "text/plain": [
       "fraud_bool                               0\n",
       "income                                   0\n",
       "name_email_similarity                    0\n",
       "prev_address_months_count           712920\n",
       "current_address_months_count          4254\n",
       "customer_age                             0\n",
       "days_since_request                       0\n",
       "intended_balcon_amount                   0\n",
       "payment_type                             0\n",
       "zip_count_4w                             0\n",
       "velocity_6h                              0\n",
       "velocity_24h                             0\n",
       "velocity_4w                              0\n",
       "bank_branch_count_8w                     0\n",
       "date_of_birth_distinct_emails_4w         0\n",
       "employment_status                        0\n",
       "credit_risk_score                      488\n",
       "email_is_free                            0\n",
       "housing_status                           0\n",
       "phone_home_valid                         0\n",
       "phone_mobile_valid                       0\n",
       "bank_months_count                   253635\n",
       "has_other_cards                          0\n",
       "proposed_credit_limit                    0\n",
       "foreign_request                          0\n",
       "source                                   0\n",
       "session_length_in_minutes             2015\n",
       "device_os                                0\n",
       "keep_alive_session                       0\n",
       "device_distinct_emails_8w              359\n",
       "device_fraud_count                       0\n",
       "month                                    0\n",
       "dtype: int64"
      ]
     },
     "execution_count": 6,
     "metadata": {},
     "output_type": "execute_result"
    }
   ],
   "source": [
    "# -1 is a missing value\n",
    "\n",
    "(df==-1).sum()"
   ]
  },
  {
   "cell_type": "code",
   "execution_count": 7,
   "metadata": {
    "id": "dHokd5XQdjCg"
   },
   "outputs": [],
   "source": [
    "#Replacing -1 with nan  \n",
    "\n",
    "df.replace(-1,np.NAN,inplace =True)"
   ]
  },
  {
   "cell_type": "code",
   "execution_count": 8,
   "metadata": {
    "id": "_Znb-cr7doS8"
   },
   "outputs": [],
   "source": [
    "# Deleting the prev_address_months_count since the missing values more than 70%\n",
    "del df[\"prev_address_months_count\" ]"
   ]
  },
  {
   "cell_type": "code",
   "execution_count": 9,
   "metadata": {
    "id": "QNBpWoq5dq4X"
   },
   "outputs": [],
   "source": [
    "df[\"current_address_months_count\"].fillna(df[\"current_address_months_count\"].median(),inplace = True)\n",
    "df[\"bank_months_count\"].fillna(df[\"bank_months_count\"].median(),inplace = True)\n",
    "df[\"credit_risk_score\"].fillna(df[\"credit_risk_score\"].mean(),inplace = True)\n",
    "df[\"session_length_in_minutes\"].fillna(df[\"session_length_in_minutes\"].median(),inplace = True)\n",
    "df[\"device_distinct_emails_8w\"].fillna(df[\"device_distinct_emails_8w\"].mode()[0],inplace = True)"
   ]
  },
  {
   "cell_type": "code",
   "execution_count": 10,
   "metadata": {
    "colab": {
     "base_uri": "https://localhost:8080/"
    },
    "id": "0bXSy9RxeFkl",
    "outputId": "d65d051f-6d8a-40b2-ff12-1665429e9726"
   },
   "outputs": [
    {
     "data": {
      "text/plain": [
       "fraud_bool                          0\n",
       "income                              0\n",
       "name_email_similarity               0\n",
       "current_address_months_count        0\n",
       "customer_age                        0\n",
       "days_since_request                  0\n",
       "intended_balcon_amount              0\n",
       "payment_type                        0\n",
       "zip_count_4w                        0\n",
       "velocity_6h                         0\n",
       "velocity_24h                        0\n",
       "velocity_4w                         0\n",
       "bank_branch_count_8w                0\n",
       "date_of_birth_distinct_emails_4w    0\n",
       "employment_status                   0\n",
       "credit_risk_score                   0\n",
       "email_is_free                       0\n",
       "housing_status                      0\n",
       "phone_home_valid                    0\n",
       "phone_mobile_valid                  0\n",
       "bank_months_count                   0\n",
       "has_other_cards                     0\n",
       "proposed_credit_limit               0\n",
       "foreign_request                     0\n",
       "source                              0\n",
       "session_length_in_minutes           0\n",
       "device_os                           0\n",
       "keep_alive_session                  0\n",
       "device_distinct_emails_8w           0\n",
       "device_fraud_count                  0\n",
       "month                               0\n",
       "dtype: int64"
      ]
     },
     "execution_count": 10,
     "metadata": {},
     "output_type": "execute_result"
    }
   ],
   "source": [
    "df.isnull().sum()"
   ]
  },
  {
   "cell_type": "code",
   "execution_count": 11,
   "metadata": {
    "id": "BpH2DugK6rvb"
   },
   "outputs": [],
   "source": [
    "df = pd.get_dummies(df, columns = [\"payment_type\",\"employment_status\",\"housing_status\",\"source\",\"device_os\"],drop_first=True)"
   ]
  },
  {
   "cell_type": "code",
   "execution_count": 12,
   "metadata": {
    "id": "Ixtigy_f6sAC"
   },
   "outputs": [],
   "source": [
    "del df[\"device_fraud_count\"]\n",
    "\n"
   ]
  },
  {
   "cell_type": "code",
   "execution_count": null,
   "metadata": {
    "id": "eWmGlaQX6sM3"
   },
   "outputs": [],
   "source": []
  },
  {
   "cell_type": "code",
   "execution_count": 13,
   "metadata": {
    "id": "NcuR2oheeGgB"
   },
   "outputs": [],
   "source": [
    "## We will try to fit different models and over sampling and under sampling techniques to get the best classifier"
   ]
  },
  {
   "cell_type": "code",
   "execution_count": 14,
   "metadata": {
    "id": "N3aYQARNeVAo"
   },
   "outputs": [],
   "source": [
    "def Definedata():\n",
    "    # define dataset\n",
    "    X=df.drop(columns=['fraud_bool']).values\n",
    "    y=df['fraud_bool'].values\n",
    "    return X, y"
   ]
  },
  {
   "cell_type": "markdown",
   "metadata": {
    "id": "SEC7Yxi3gDfb"
   },
   "source": [
    "Applying different resampling techniques and splitting the data "
   ]
  },
  {
   "cell_type": "markdown",
   "metadata": {
    "id": "aFJ3UyoggLcw"
   },
   "source": [
    "## SMOTE"
   ]
  },
  {
   "cell_type": "code",
   "execution_count": 15,
   "metadata": {
    "id": "6RGebHVKeyM7"
   },
   "outputs": [],
   "source": [
    "def SMOTE():\n",
    "    # SMOTE for imbalanced dataset\n",
    "    from collections import Counter\n",
    "    from sklearn.model_selection import train_test_split\n",
    "    from sklearn.datasets import make_classification\n",
    "    from imblearn.over_sampling import SMOTE\n",
    "    from matplotlib import pyplot\n",
    "    from numpy import where\n",
    "    \n",
    "    X, y = Definedata()\n",
    "\n",
    "# summarize class distribution\n",
    "    counter = Counter(y)\n",
    "    print(counter)\n",
    "# transform the dataset\n",
    "    smt = SMOTE(random_state=0)\n",
    "    \n",
    "    X_train, X_test, y_train, y_test = train_test_split(X, y, test_size=0.5 ,stratify= y)\n",
    "\n",
    "    X_train, y_train = smt.fit_resample(X_train, y_train) \n",
    "# summarize the new class distribution\n",
    "    counter = Counter(y_train)\n",
    "    print(counter)\n",
    "\n",
    "    return X_train, X_test, y_train, y_test"
   ]
  },
  {
   "cell_type": "markdown",
   "metadata": {
    "id": "Rdj9by6vgY-V"
   },
   "source": [
    "## Borderline SMOTE"
   ]
  },
  {
   "cell_type": "code",
   "execution_count": 16,
   "metadata": {
    "id": "322_X-RdgOA_"
   },
   "outputs": [],
   "source": [
    "def BSMOTE():\n",
    "    from collections import Counter\n",
    "    from sklearn.model_selection import train_test_split\n",
    "    from imblearn.over_sampling import BorderlineSMOTE\n",
    "    from matplotlib import pyplot\n",
    "    from numpy import where\n",
    "    \n",
    "    X, y = Definedata()\n",
    "    \n",
    "# summarize class distribution\n",
    "    counter = Counter(y)\n",
    "    print(counter)\n",
    "# transform the dataset\n",
    "    Bo_smt = BorderlineSMOTE(random_state=0)\n",
    "    X_train, X_test, y_train, y_test = train_test_split(X, y, test_size=0.8,stratify= y)\n",
    "    X_train, y_train = Bo_smt.fit_resample(X_train, y_train)\n",
    "# summarize the new class distribution\n",
    "    counter = Counter(y_train)\n",
    "    print(counter)\n",
    "    return X_train, X_test, y_train, y_test\n"
   ]
  },
  {
   "cell_type": "markdown",
   "metadata": {
    "id": "M_OmtxmJ4cj1"
   },
   "source": [
    "## SMOTESVM "
   ]
  },
  {
   "cell_type": "code",
   "execution_count": 17,
   "metadata": {
    "id": "pWTCCvCu4L6y"
   },
   "outputs": [],
   "source": [
    "def SMOTESVM():\n",
    "    from collections import Counter\n",
    "    from sklearn.model_selection import train_test_split\n",
    "    from imblearn.over_sampling import SVMSMOTE\n",
    "    \n",
    "    from numpy import where\n",
    "\n",
    "    X,y = Definedata()\n",
    "\n",
    "      #Imbalanced class \n",
    "\n",
    "    count = Counter(y)\n",
    "    print(count)\n",
    "\n",
    "\n",
    "    # transform the dataset\n",
    "    X_train, X_test, y_train, y_test = train_test_split(X, y, test_size=0.5,stratify= y)\n",
    "    X_train, y_train = SVMSMOTE().fit_resample(X_train, y_train)\n",
    "     # summarize the new class distribution\n",
    "    counter = Counter(y_train)\n",
    "    print(counter)\n",
    "     # scatter plot of examples by class label\n",
    "   \n",
    "    return X_train, X_test, y_train, y_test\n",
    "\n",
    "\n"
   ]
  },
  {
   "cell_type": "code",
   "execution_count": 18,
   "metadata": {
    "colab": {
     "base_uri": "https://localhost:8080/",
     "height": 369
    },
    "id": "cbXFcTEB6RQp",
    "outputId": "3949082a-da77-40d2-aaa4-6c4c7be729f0"
   },
   "outputs": [
    {
     "name": "stdout",
     "output_type": "stream",
     "text": [
      "Counter({0: 988971, 1: 11029})\n",
      "Counter({0: 494486, 1: 494486})\n",
      "CPU times: total: 5.45 s\n",
      "Wall time: 3.99 s\n"
     ]
    }
   ],
   "source": [
    "%time X_train1, X_test1, y_train1, y_test1 = SMOTE()\n"
   ]
  },
  {
   "cell_type": "code",
   "execution_count": 19,
   "metadata": {
    "colab": {
     "base_uri": "https://localhost:8080/",
     "height": 369
    },
    "id": "rueWDn9o6c07",
    "outputId": "464659d9-aada-4be5-dbcf-1c85f1590dbd"
   },
   "outputs": [
    {
     "name": "stdout",
     "output_type": "stream",
     "text": [
      "Counter({0: 988971, 1: 11029})\n",
      "Counter({0: 197794, 1: 197794})\n"
     ]
    }
   ],
   "source": [
    " X_train2, X_test2, y_train2, y_test2 = BSMOTE()"
   ]
  },
  {
   "cell_type": "code",
   "execution_count": null,
   "metadata": {
    "id": "dt7sif5u9Vta"
   },
   "outputs": [],
   "source": [
    "%time X_train3, X_test3, y_train3, y_test3 = SMOTESVM()"
   ]
  },
  {
   "cell_type": "code",
   "execution_count": 20,
   "metadata": {
    "id": "5J8q_nlgHHbR"
   },
   "outputs": [],
   "source": [
    "def Models(models, X_train, X_test, y_train, y_test, title):\n",
    "    model = models\n",
    "    model.fit(X_train,y_train)\n",
    "    \n",
    "    X, y = Definedata()\n",
    "    train_matrix = pd.crosstab(y_train, model.predict(X_train), rownames=['Actual'], colnames=['Predicted'])    \n",
    "    test_matrix = pd.crosstab(y_test, model.predict(X_test), rownames=['Actual'], colnames=['Predicted'])\n",
    "    matrix = pd.crosstab(y, model.predict(X), rownames=['Actual'], colnames=['Predicted'])\n",
    "    \n",
    "    f,(ax1,ax2,ax3) = plt.pyplot.subplots(1,3,sharey=True, figsize=(20, 3))\n",
    "    #f = plt.figure(figsize=(20, 3))\n",
    "    \n",
    "    g1 = sns.heatmap(train_matrix, annot=True, fmt=\".1f\", cbar=False,annot_kws={\"size\": 16},ax=ax1)\n",
    "    g1.set_title(title)\n",
    "    g1.set_ylabel('Total Fraud = {}'.format(y_train.sum()), fontsize=14, rotation=90)\n",
    "    g1.set_xlabel('recall score for Trainingset: {}'.format(metrics.recall_score(model.predict(X_train), y_train)))\n",
    "    \n",
    "    g2 = sns.heatmap(test_matrix, annot=True, fmt=\".1f\",cbar=False,annot_kws={\"size\": 16},ax=ax2)\n",
    "    g2.set_ylabel('Total Fraud = {}'.format(y_test.sum()), fontsize=14, rotation=90)\n",
    "    g2.set_xlabel('recall score for Testingset: {}'.format(metrics.recall_score(model.predict(X_test), y_test)))\n",
    "    \n",
    "    g3 = sns.heatmap(matrix, annot=True, fmt=\".1f\",cbar=False,annot_kws={\"size\": 16},ax=ax3)\n",
    "    g3.set_ylabel('Total Fraud = {}'.format(y.sum()), fontsize=14, rotation=90)\n",
    "    g3.set_xlabel('recall score for Totalset: {}'.format(metrics.recall_score(model.predict(X), y)))\n",
    "    \n",
    "    plt.pyplot.show()\n",
    "    return y, model.predict(X)"
   ]
  },
  {
   "cell_type": "markdown",
   "metadata": {},
   "source": [
    "## Results of diff models"
   ]
  },
  {
   "cell_type": "markdown",
   "metadata": {},
   "source": [
    "## Logistic"
   ]
  },
  {
   "cell_type": "code",
   "execution_count": null,
   "metadata": {},
   "outputs": [],
   "source": [
    "title = 'LogisticRegression/SMOTE'\n",
    "%time Models(LogisticRegression(),X_train1, X_test1, y_train1, y_test1, title)"
   ]
  },
  {
   "cell_type": "code",
   "execution_count": null,
   "metadata": {},
   "outputs": [],
   "source": [
    "title = 'LogisticRegression/BSMOTE'\n",
    "%time Models(LogisticRegression(),X_train2, X_test2, y_train2, y_test2, title)"
   ]
  },
  {
   "cell_type": "code",
   "execution_count": null,
   "metadata": {},
   "outputs": [],
   "source": [
    "title = 'LogisticRegression/SVMSMOTE'\n",
    "%time Models(LogisticRegression(),X_train3, X_test3, y_train3, y_test3, title)"
   ]
  },
  {
   "cell_type": "markdown",
   "metadata": {},
   "source": [
    "## KNN"
   ]
  },
  {
   "cell_type": "code",
   "execution_count": null,
   "metadata": {},
   "outputs": [],
   "source": [
    "title = 'KNeighborsClassifier/SMOTE'\n",
    "%time Models(KNeighborsClassifier(n_neighbors=1),X_train1, X_test1, y_train1, y_test1, title)"
   ]
  },
  {
   "cell_type": "code",
   "execution_count": null,
   "metadata": {},
   "outputs": [],
   "source": [
    "title = 'KNeighborsClassifier/BSMOTE'\n",
    "%time Models(KNeighborsClassifier(n_neighbors=1),X_train2, X_test2, y_train2, y_test2, title)"
   ]
  },
  {
   "cell_type": "code",
   "execution_count": null,
   "metadata": {},
   "outputs": [],
   "source": [
    "title = 'KNeighborsClassifier/SMOTESVM'\n",
    "%time Models(KNeighborsClassifier(n_neighbors=1),X_train3, X_test3, y_train3, y_test3, title)"
   ]
  },
  {
   "cell_type": "markdown",
   "metadata": {},
   "source": [
    "## Random Forest "
   ]
  },
  {
   "cell_type": "code",
   "execution_count": 21,
   "metadata": {},
   "outputs": [
    {
     "data": {
      "image/png": "[encoded data removed]",
      "text/plain": [
       "<Figure size 1440x216 with 3 Axes>"
      ]
     },
     "metadata": {
      "needs_background": "light"
     },
     "output_type": "display_data"
    },
    {
     "name": "stdout",
     "output_type": "stream",
     "text": [
      "CPU times: total: 2min 29s\n",
      "Wall time: 3min 45s\n"
     ]
    },
    {
     "data": {
      "text/plain": [
       "(array([1, 1, 1, ..., 0, 0, 0], dtype=int64),\n",
       " array([0, 0, 0, ..., 0, 0, 0], dtype=int64))"
      ]
     },
     "execution_count": 21,
     "metadata": {},
     "output_type": "execute_result"
    }
   ],
   "source": [
    "title = 'RandomForestClassifier/SMOTESVM'\n",
    "%time Models(RandomForestClassifier(),X_train2, X_test2, y_train2, y_test2, title)"
   ]
  },
  {
   "cell_type": "code",
   "execution_count": null,
   "metadata": {},
   "outputs": [],
   "source": []
  },
  {
   "cell_type": "code",
   "execution_count": null,
   "metadata": {},
   "outputs": [],
   "source": []
  },
  {
   "cell_type": "code",
   "execution_count": null,
   "metadata": {},
   "outputs": [],
   "source": []
  },
  {
   "cell_type": "markdown",
   "metadata": {},
   "source": [
    "## DecisionTree "
   ]
  },
  {
   "cell_type": "code",
   "execution_count": null,
   "metadata": {},
   "outputs": [],
   "source": [
    "title = 'DecisionTreeClassifier/BSMOTE'\n",
    "%time Models(DecisionTreeClassifier(),X_train2, X_test2, y_train2, y_test2, title)"
   ]
  },
  {
   "cell_type": "code",
   "execution_count": null,
   "metadata": {},
   "outputs": [],
   "source": [
    "recall = cross_val_score(DecisionTreeClassifier(), X_train2, y_train2, cv=10 , scoring=\"recall\")"
   ]
  },
  {
   "cell_type": "code",
   "execution_count": null,
   "metadata": {},
   "outputs": [],
   "source": [
    "recall"
   ]
  },
  {
   "cell_type": "code",
   "execution_count": null,
   "metadata": {},
   "outputs": [],
   "source": [
    "title = 'DecisionTreeClassifier/SVMSMOTE'\n",
    "%time Models(DecisionTreeClassifier(),X_train3, X_test3, y_train3, y_test3, title)"
   ]
  },
  {
   "cell_type": "code",
   "execution_count": null,
   "metadata": {},
   "outputs": [],
   "source": [
    "clf_dt = DecisionTreeClassifier()"
   ]
  },
  {
   "cell_type": "code",
   "execution_count": null,
   "metadata": {},
   "outputs": [],
   "source": [
    "path = clf_dt.cost_complexity_pruning_path(X_train2, y_train2)  #determing values for alpha - regularization parameter\n",
    "ccp_alphas, impurities = path.ccp_alphas, path.impurities\n",
    "   #getting the different values for alphas\n",
    "\n",
    "\n"
   ]
  },
  {
   "cell_type": "code",
   "execution_count": null,
   "metadata": {},
   "outputs": [],
   "source": [
    "len(ccp_alphas)"
   ]
  },
  {
   "cell_type": "code",
   "execution_count": null,
   "metadata": {},
   "outputs": [],
   "source": [
    "size = 2680\n",
    "step = 2\n",
    "ind = (list(range(2300, size, step)))\n",
    "len(ind)"
   ]
  },
  {
   "cell_type": "code",
   "execution_count": null,
   "metadata": {},
   "outputs": [],
   "source": [
    "np.where(ccp_alphas ==0.00124786459670198)"
   ]
  },
  {
   "cell_type": "code",
   "execution_count": null,
   "metadata": {},
   "outputs": [],
   "source": [
    "ccp_alphas2 = ccp_alphas[2650:]\n",
    "#for i in range(134):\n",
    "    #ccp_alphas2.append(ccp_alphas[(i)*20])\n",
    " \n",
    "    "
   ]
  },
  {
   "cell_type": "code",
   "execution_count": null,
   "metadata": {},
   "outputs": [],
   "source": [
    "(ccp_alphas2) =  (ccp_alphas2)[-7:]\n"
   ]
  },
  {
   "cell_type": "code",
   "execution_count": null,
   "metadata": {},
   "outputs": [],
   "source": [
    "ccp_alphas3 = ccp_alphas[130:150]"
   ]
  },
  {
   "cell_type": "code",
   "execution_count": null,
   "metadata": {},
   "outputs": [],
   "source": [
    "ccp_alphas3"
   ]
  },
  {
   "cell_type": "code",
   "execution_count": null,
   "metadata": {},
   "outputs": [],
   "source": [
    "clf_dts = [] #create an array of different decision trees with aplha values \n",
    "\n",
    "#creating a loop to print the recall of different models \n",
    "\n",
    "for ccp_alpha in ccp_alphas2:\n",
    "    clf_dt = DecisionTreeClassifier(ccp_alpha = ccp_alpha)\n",
    "    clf_dt.fit(X_train2, y_train2)\n",
    "    clf_dts.append(clf_dt)"
   ]
  },
  {
   "cell_type": "code",
   "execution_count": null,
   "metadata": {},
   "outputs": [],
   "source": [
    "clf_dts"
   ]
  },
  {
   "cell_type": "code",
   "execution_count": null,
   "metadata": {},
   "outputs": [],
   "source": [
    "clf_dts = clf_dts[-7:]"
   ]
  },
  {
   "cell_type": "code",
   "execution_count": null,
   "metadata": {},
   "outputs": [],
   "source": [
    "#cross_val_score(DecisionTreeClassifier(), X_train2, y_train2, cv=10 , scoring=\"recall\")\n",
    "scores = [cross_val_score(clf_dt, X_train2, y_train2, cv=10 , scoring=\"recall\") for clf_dt in clf_dts ]\n"
   ]
  },
  {
   "cell_type": "code",
   "execution_count": null,
   "metadata": {},
   "outputs": [],
   "source": [
    "scores"
   ]
  },
  {
   "cell_type": "code",
   "execution_count": null,
   "metadata": {},
   "outputs": [],
   "source": [
    "clf_dts"
   ]
  },
  {
   "cell_type": "code",
   "execution_count": null,
   "metadata": {},
   "outputs": [],
   "source": [
    "train_scores = [metrics.recall_score(y_train2,clf_dt.predict(X_train2)) for clf_dt in clf_dts ]\n",
    "test_scores = [metrics.recall_score(y_test2,clf_dt.predict(X_test2)) for clf_dt in clf_dts ]\n",
    " \n"
   ]
  },
  {
   "cell_type": "code",
   "execution_count": null,
   "metadata": {},
   "outputs": [],
   "source": [
    "len(train_scores)"
   ]
  },
  {
   "cell_type": "code",
   "execution_count": null,
   "metadata": {},
   "outputs": [],
   "source": [
    "fig,ax = plt.pyplot.subplots()\n",
    "ax.set_xlabel(\"alpha\")\n",
    "ax.set_ylabel(\"recall\")\n",
    "#ax.set_titles(\"Recall vs alpha for tra///ining and testing data\")\n",
    "ax.plot(ccp_alphas2,train_scores,label = \"train\" , drawstyle = \"steps-post\")\n",
    "ax.plot(ccp_alphas2,test_scores,label = \"test\" , drawstyle = \"steps-post\")\n",
    "ax.legend()\n",
    "plt.pyplot.show()"
   ]
  },
  {
   "cell_type": "code",
   "execution_count": null,
   "metadata": {},
   "outputs": [],
   "source": [
    "decision_tree = DecisionTreeClassifier(ccp_alpha=0.015218073509507116)"
   ]
  },
  {
   "cell_type": "code",
   "execution_count": null,
   "metadata": {},
   "outputs": [],
   "source": [
    "decision_tree = decision_tree.fit(X_train2,y_train2 )"
   ]
  },
  {
   "cell_type": "code",
   "execution_count": null,
   "metadata": {},
   "outputs": [],
   "source": [
    "y_pred=decision_tree.predict(X_test2)\n"
   ]
  },
  {
   "cell_type": "code",
   "execution_count": null,
   "metadata": {},
   "outputs": [],
   "source": [
    "cm = confusion_matrix(y_test2, y_pred)\n",
    "sns.heatmap(cm,annot=True,fmt='d',cmap=\"YlGnBu\")"
   ]
  },
  {
   "cell_type": "code",
   "execution_count": null,
   "metadata": {},
   "outputs": [],
   "source": [
    "print(classification_report(y_test2, y_pred))"
   ]
  },
  {
   "cell_type": "code",
   "execution_count": null,
   "metadata": {},
   "outputs": [],
   "source": [
    "import pandas as pd\n",
    "import numpy as np\n",
    "import seaborn as sns\n",
    "import matplotlib.pyplot as plt \n",
    "import scipy.stats as st\n",
    "import statsmodels.api as sm\n",
    "from sklearn.linear_model import LogisticRegression\n",
    "from sklearn.model_selection import train_test_split\n",
    "from imblearn.over_sampling import SMOTE\n",
    "from sklearn.metrics import confusion_matrix\n",
    "from sklearn.metrics import classification_report\n",
    "from statsmodels.tools import add_constant as add_constant\n",
    "import warnings\n",
    "warnings.filterwarnings('ignore')\n",
    "from sklearn.linear_model import LogisticRegressionCV #for optimal c parameter \n",
    "from sklearn.metrics import accuracy_score\n",
    "from sklearn import metrics\n",
    "\n",
    "from sklearn.svm import SVC\n",
    "from sklearn.neighbors import KNeighborsClassifier\n",
    "from sklearn.tree import DecisionTreeClassifier\n",
    "from sklearn import tree\n",
    "from sklearn.ensemble import RandomForestClassifier\n",
    "import xgboost as xgb\n",
    "import collections\n",
    "from six import StringIO \n",
    "from IPython.display import Image  \n",
    "from sklearn.tree import export_graphviz\n",
    "import pydotplus\n",
    "\n",
    "\n",
    "from sklearn.model_selection import cross_val_score\n",
    "from sklearn.model_selection import cross_val_predict\n",
    "\n",
    "from imblearn.under_sampling import RandomUnderSampler #undersampling "
   ]
  },
  {
   "cell_type": "code",
   "execution_count": null,
   "metadata": {},
   "outputs": [],
   "source": [
    "auc = metrics.roc_auc_score(y_test2, y_pred)\n",
    "\n",
    "false_positive_rate, true_positive_rate, thresolds = metrics.roc_curve(y_test2, y_pred)\n",
    "\n",
    "plt.figure(figsize=(10, 8), dpi=100)\n",
    "plt.axis('scaled')\n",
    "plt.xlim([0, 1])\n",
    "plt.ylim([0, 1])\n",
    "plt.title(\"AUC & ROC Curve\")\n",
    "plt.plot(false_positive_rate, true_positive_rate, 'g')\n",
    "plt.fill_between(false_positive_rate, true_positive_rate, facecolor='lightgreen', alpha=0.7)\n",
    "plt.text(0.95, 0.05, 'AUC = %0.4f' % auc, ha='right', fontsize=12, weight='bold', color='blue')\n",
    "plt.xlabel(\"False Positive Rate\")\n",
    "plt.ylabel(\"True Positive Rate\")\n",
    "plt.show()"
   ]
  },
  {
   "cell_type": "markdown",
   "metadata": {},
   "source": [
    "## Random forest"
   ]
  },
  {
   "cell_type": "code",
   "execution_count": 22,
   "metadata": {},
   "outputs": [],
   "source": [
    "rf = RandomForestClassifier()"
   ]
  },
  {
   "cell_type": "code",
   "execution_count": 24,
   "metadata": {},
   "outputs": [],
   "source": [
    "rf = rf.fit(X_train2,y_train2)"
   ]
  },
  {
   "cell_type": "code",
   "execution_count": 26,
   "metadata": {},
   "outputs": [],
   "source": [
    "y_pred=rf.predict(X_test2)\n"
   ]
  },
  {
   "cell_type": "code",
   "execution_count": 27,
   "metadata": {},
   "outputs": [
    {
     "data": {
      "text/plain": [
       "<AxesSubplot:>"
      ]
     },
     "execution_count": 27,
     "metadata": {},
     "output_type": "execute_result"
    },
    {
     "data": {
      "image/png": "[encoded data removed]",
      "text/plain": [
       "<Figure size 432x288 with 2 Axes>"
      ]
     },
     "metadata": {
      "needs_background": "light"
     },
     "output_type": "display_data"
    }
   ],
   "source": [
    "cm = confusion_matrix(y_test2, y_pred)\n",
    "sns.heatmap(cm,annot=True,fmt='d',cmap=\"YlGnBu\")"
   ]
  },
  {
   "cell_type": "code",
   "execution_count": 28,
   "metadata": {},
   "outputs": [
    {
     "name": "stdout",
     "output_type": "stream",
     "text": [
      "              precision    recall  f1-score   support\n",
      "\n",
      "           0       0.99      1.00      0.99    791177\n",
      "           1       0.32      0.01      0.02      8823\n",
      "\n",
      "    accuracy                           0.99    800000\n",
      "   macro avg       0.66      0.50      0.51    800000\n",
      "weighted avg       0.98      0.99      0.98    800000\n",
      "\n"
     ]
    }
   ],
   "source": [
    "print(classification_report(y_test2, y_pred))"
   ]
  },
  {
   "cell_type": "markdown",
   "metadata": {},
   "source": [
    "## XGBoost"
   ]
  },
  {
   "cell_type": "code",
   "execution_count": 29,
   "metadata": {},
   "outputs": [],
   "source": [
    "xgb = XGBClassifier()"
   ]
  },
  {
   "cell_type": "code",
   "execution_count": 37,
   "metadata": {},
   "outputs": [],
   "source": [
    "xgb = xgb.fit(X_train1,y_train1)"
   ]
  },
  {
   "cell_type": "code",
   "execution_count": 38,
   "metadata": {},
   "outputs": [],
   "source": [
    "y_pred=xgb.predict(X_test1)"
   ]
  },
  {
   "cell_type": "code",
   "execution_count": 39,
   "metadata": {},
   "outputs": [
    {
     "data": {
      "text/plain": [
       "<AxesSubplot:>"
      ]
     },
     "execution_count": 39,
     "metadata": {},
     "output_type": "execute_result"
    },
    {
     "data": {
      "image/png": "[encoded data removed]",
      "text/plain": [
       "<Figure size 432x288 with 2 Axes>"
      ]
     },
     "metadata": {
      "needs_background": "light"
     },
     "output_type": "display_data"
    }
   ],
   "source": [
    "cm = confusion_matrix(y_test1, y_pred)\n",
    "sns.heatmap(cm,annot=True,fmt='d',cmap=\"YlGnBu\")"
   ]
  },
  {
   "cell_type": "code",
   "execution_count": 40,
   "metadata": {},
   "outputs": [
    {
     "name": "stdout",
     "output_type": "stream",
     "text": [
      "              precision    recall  f1-score   support\n",
      "\n",
      "           0       0.99      1.00      0.99    494485\n",
      "           1       0.44      0.05      0.09      5515\n",
      "\n",
      "    accuracy                           0.99    500000\n",
      "   macro avg       0.72      0.53      0.54    500000\n",
      "weighted avg       0.98      0.99      0.98    500000\n",
      "\n"
     ]
    }
   ],
   "source": [
    "print(classification_report(y_test1, y_pred))"
   ]
  },
  {
   "cell_type": "code",
   "execution_count": null,
   "metadata": {},
   "outputs": [],
   "source": []
  }
 ],
 "metadata": {
  "accelerator": "GPU",
  "colab": {
   "provenance": []
  },
  "gpuClass": "standard",
  "kernelspec": {
   "display_name": "Python 3 (ipykernel)",
   "language": "python",
   "name": "python3"
  },
  "language_info": {
   "codemirror_mode": {
    "name": "ipython",
    "version": 3
   },
   "file_extension": ".py",
   "mimetype": "text/x-python",
   "name": "python",
   "nbconvert_exporter": "python",
   "pygments_lexer": "ipython3",
   "version": "3.9.12"
  }
 },
 "nbformat": 4,
 "nbformat_minor": 1
}
